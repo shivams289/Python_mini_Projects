{
  "nbformat": 4,
  "nbformat_minor": 0,
  "metadata": {
    "colab": {
      "name": "min_jumps.ipynb",
      "provenance": [],
      "authorship_tag": "ABX9TyPQYuHXW6nBwVFbHbjEQwSJ",
      "include_colab_link": true
    },
    "kernelspec": {
      "name": "python3",
      "display_name": "Python 3"
    },
    "language_info": {
      "name": "python"
    }
  },
  "cells": [
    {
      "cell_type": "markdown",
      "metadata": {
        "id": "view-in-github",
        "colab_type": "text"
      },
      "source": [
        "<a href=\"https://colab.research.google.com/github/shivams289/Python_mini_Projects/blob/main/min_jumps.ipynb\" target=\"_parent\"><img src=\"https://colab.research.google.com/assets/colab-badge.svg\" alt=\"Open In Colab\"/></a>"
      ]
    },
    {
      "cell_type": "markdown",
      "metadata": {
        "id": "tKB2NbPIGkwK"
      },
      "source": [
        "##Given an array of N integers arr[] where each element represents the max number of steps that can be made forward from that element. Find the minimum number of jumps to reach the end of the array (starting from the first element). If an element is 0, then you cannot move through that element.\n",
        "Note: Return -1 if you can't reach the end of the array\n",
        "---\n",
        "\n"
      ]
    },
    {
      "cell_type": "code",
      "metadata": {
        "id": "ziBICP4pHuCk"
      },
      "source": [
        "class Solution:\n",
        "  def minjumps(self, arr, n):\n",
        "    jump = 1\n",
        "    steps = arr[0]\n",
        "    max_range = arr[0]\n",
        "    if n<=1:\n",
        "      return 0\n",
        "    if arr[0]==0:\n",
        "      return -1\n",
        "    \n",
        "\n",
        "    else:\n",
        "      for i in range(1, n):\n",
        "        if i == n-1:\n",
        "          return jump\n",
        "        max_range = max(max_range, i + arr[i])\n",
        "        steps -= 1\n",
        "        if steps == 0:\n",
        "          jump +=1\n",
        "          if i>=max_range:\n",
        "            return -1\n",
        "          steps = max_range - i\n",
        "\n",
        "    return jump\n",
        "        "
      ],
      "execution_count": 2,
      "outputs": []
    },
    {
      "cell_type": "code",
      "metadata": {
        "id": "sKpadQW1GgJS"
      },
      "source": [
        "if __name__ == '__main__':\n",
        "  T = int(input())\n",
        "  for i in range(T):\n",
        "    n = int(input())\n",
        "    arr = [int(x) for x in input().split()]\n",
        "    sol = Solution()\n",
        "    ans = sol.minjumps(arr,n)\n",
        "    print(ans)"
      ],
      "execution_count": null,
      "outputs": []
    }
  ]
}