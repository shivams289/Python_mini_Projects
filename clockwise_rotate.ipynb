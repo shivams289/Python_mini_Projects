{
  "nbformat": 4,
  "nbformat_minor": 0,
  "metadata": {
    "colab": {
      "name": "clockwise_rotate.ipynb",
      "provenance": []
    },
    "kernelspec": {
      "name": "python3",
      "display_name": "Python 3"
    },
    "language_info": {
      "name": "python"
    }
  },
  "cells": [
    {
      "cell_type": "markdown",
      "metadata": {
        "id": "5E61I7tYAoIp"
      },
      "source": [
        "## Clockwise Rotate Any Number of Times\n",
        "## 2- Methods to do this:\n",
        "\n",
        "\n",
        "\n",
        "1.   One Using for loop, O(n)\n",
        "2.   Other using pop and Insert with complexity O(1)\n",
        "\n",
        "\n",
        "\n"
      ]
    },
    {
      "cell_type": "code",
      "metadata": {
        "id": "DEH-lVFSz4A_"
      },
      "source": [
        "\n",
        "\n",
        "#Normal Method\n",
        "def Clockwise_rotate(x, lt):\n",
        "  lst = lt\n",
        "  n = len(lst)\n",
        "  temp = lst[n-1]\n",
        "\n",
        "# Stopping condition for recursion\n",
        "  if x==0:\n",
        "    return lst\n",
        "\n",
        "  for i in range(n):\n",
        "    if i<=(n-2):\n",
        "      lst[n-1-i] = lst[n-2-i]\n",
        "    else:\n",
        "      lst[n-1-i]=temp\n",
        "\n",
        "#Using Recursion\n",
        "  return Clockwise_rotate(x-1, lst)\n"
      ],
      "execution_count": 51,
      "outputs": []
    },
    {
      "cell_type": "code",
      "metadata": {
        "id": "o_DJYl_w6vIE"
      },
      "source": [
        "#Somewhat short method\n",
        "def short_clockwise_rotate(x, lt):\n",
        "  lst = lt\n",
        "  n = len(lst)\n",
        "  temp = lst[n-1]\n",
        "  if x==0:\n",
        "    return lst\n",
        "\n",
        "  lst.pop(n-1)\n",
        "  lst.insert(0, temp)\n",
        "\n",
        "  return short_clockwise_rotate(x-1, lst)"
      ],
      "execution_count": 45,
      "outputs": []
    },
    {
      "cell_type": "code",
      "metadata": {
        "colab": {
          "base_uri": "https://localhost:8080/"
        },
        "id": "MELcV-HL9Qsp",
        "outputId": "949d2732-9d14-4a6c-cd2f-b710987f1864"
      },
      "source": [
        "jay = []\n",
        "for i in range(1,21):\n",
        "  jay.append(i)\n",
        "jay\n"
      ],
      "execution_count": 46,
      "outputs": [
        {
          "output_type": "execute_result",
          "data": {
            "text/plain": [
              "[1, 2, 3, 4, 5, 6, 7, 8, 9, 10, 11, 12, 13, 14, 15, 16, 17, 18, 19, 20]"
            ]
          },
          "metadata": {
            "tags": []
          },
          "execution_count": 46
        }
      ]
    },
    {
      "cell_type": "code",
      "metadata": {
        "id": "bbvtj5767yyc"
      },
      "source": [
        "llt = [1,2,3,4,5,6]\n",
        "llt1 = [1,2,3,4,5,6]"
      ],
      "execution_count": 47,
      "outputs": []
    },
    {
      "cell_type": "code",
      "metadata": {
        "colab": {
          "base_uri": "https://localhost:8080/"
        },
        "id": "q8iS5yCf1cnJ",
        "outputId": "fe06563a-5b7e-4bdc-e90b-09b6441cb914"
      },
      "source": [
        "print(short_clockwise_rotate(4, jay))\n"
      ],
      "execution_count": 50,
      "outputs": [
        {
          "output_type": "stream",
          "text": [
            "[15, 16, 17, 18, 19, 20, 1, 2, 3, 4, 5, 6, 7, 8, 9, 10, 11, 12, 13, 14]\n"
          ],
          "name": "stdout"
        }
      ]
    },
    {
      "cell_type": "code",
      "metadata": {
        "colab": {
          "base_uri": "https://localhost:8080/"
        },
        "id": "8Vgv8iC29w25",
        "outputId": "e5edaf02-8ef8-4e92-af12-19ac6e3f4fb6"
      },
      "source": [
        "jay"
      ],
      "execution_count": 49,
      "outputs": [
        {
          "output_type": "execute_result",
          "data": {
            "text/plain": [
              "[19, 20, 1, 2, 3, 4, 5, 6, 7, 8, 9, 10, 11, 12, 13, 14, 15, 16, 17, 18]"
            ]
          },
          "metadata": {
            "tags": []
          },
          "execution_count": 49
        }
      ]
    },
    {
      "cell_type": "code",
      "metadata": {
        "colab": {
          "base_uri": "https://localhost:8080/"
        },
        "id": "--ZWJIfs_ECF",
        "outputId": "d02f9da4-5b59-4c38-cdb5-45f4ed330500"
      },
      "source": [
        "short_clockwise_rotate(2, jay)"
      ],
      "execution_count": 52,
      "outputs": [
        {
          "output_type": "execute_result",
          "data": {
            "text/plain": [
              "[13, 14, 15, 16, 17, 18, 19, 20, 1, 2, 3, 4, 5, 6, 7, 8, 9, 10, 11, 12]"
            ]
          },
          "metadata": {
            "tags": []
          },
          "execution_count": 52
        }
      ]
    }
  ]
}