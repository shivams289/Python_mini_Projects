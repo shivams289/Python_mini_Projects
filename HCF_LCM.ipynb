{
  "nbformat": 4,
  "nbformat_minor": 0,
  "metadata": {
    "colab": {
      "name": "HCF_LCM.ipynb",
      "provenance": []
    },
    "kernelspec": {
      "name": "python3",
      "display_name": "Python 3"
    },
    "language_info": {
      "name": "python"
    }
  },
  "cells": [
    {
      "cell_type": "code",
      "metadata": {
        "colab": {
          "base_uri": "https://localhost:8080/"
        },
        "id": "y4WZi26FBXBM",
        "outputId": "cba08edb-0ce6-4716-dfb1-bfe00866f2a0"
      },
      "source": [
        "def hcf(a, b):\n",
        "    if(b == 0):\n",
        "        return a\n",
        "    else:\n",
        "        return hcf(b, a % b)\n",
        "  \n",
        "print(hcf(16, 54))"
      ],
      "execution_count": 45,
      "outputs": [
        {
          "output_type": "stream",
          "text": [
            "2\n"
          ],
          "name": "stdout"
        }
      ]
    },
    {
      "cell_type": "code",
      "metadata": {
        "id": "gAYFRYh47zZM"
      },
      "source": [
        "#LCM\n",
        "def lcm(a,b):\n",
        "  return int((a*b)/hcf(a,b))"
      ],
      "execution_count": 48,
      "outputs": []
    },
    {
      "cell_type": "code",
      "metadata": {
        "colab": {
          "base_uri": "https://localhost:8080/"
        },
        "id": "1Zq2HJGj75jB",
        "outputId": "22101c27-05ea-4818-bdf5-ca1686df11af"
      },
      "source": [
        "print('LCM:{}, HCF:{}'.format(LCM(54,16), hcf(54,16)))"
      ],
      "execution_count": 49,
      "outputs": [
        {
          "output_type": "stream",
          "text": [
            "LCM:432, HCF:2\n"
          ],
          "name": "stdout"
        }
      ]
    },
    {
      "cell_type": "code",
      "metadata": {
        "colab": {
          "base_uri": "https://localhost:8080/"
        },
        "id": "v50DkK4R8KGT",
        "outputId": "2f1af368-d490-40e5-fe4a-016a7fb29f38"
      },
      "source": [
        "#VerificaTION\n",
        "import math as mt\n",
        "print(mt.gcd(16,54))"
      ],
      "execution_count": 31,
      "outputs": [
        {
          "output_type": "stream",
          "text": [
            "2\n"
          ],
          "name": "stdout"
        }
      ]
    }
  ]
}