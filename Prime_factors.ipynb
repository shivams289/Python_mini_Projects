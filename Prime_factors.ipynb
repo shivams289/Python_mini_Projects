{
  "nbformat": 4,
  "nbformat_minor": 0,
  "metadata": {
    "colab": {
      "name": "Prime_factors.ipynb",
      "provenance": []
    },
    "kernelspec": {
      "name": "python3",
      "display_name": "Python 3"
    },
    "language_info": {
      "name": "python"
    }
  },
  "cells": [
    {
      "cell_type": "code",
      "metadata": {
        "id": "fIu3FhSyRDFi"
      },
      "source": [
        "def Prime_factors(n):\n",
        "  prime_fact = []\n",
        "  divisor = 2\n",
        "  if n<2:\n",
        "    prime_fact.append('NA')\n",
        "  while(divisor<=n):\n",
        "    if n%divisor == 0:\n",
        "      prime_fact.append(divisor)\n",
        "      n = n/divisor\n",
        "    else:\n",
        "      divisor +=1\n",
        "  return prime_fact\n"
      ],
      "execution_count": 51,
      "outputs": []
    },
    {
      "cell_type": "code",
      "metadata": {
        "colab": {
          "base_uri": "https://localhost:8080/"
        },
        "id": "wWgkP1wJYR4H",
        "outputId": "ed66f888-16ff-4b08-f373-6ff6f96661f6"
      },
      "source": [
        "def Power_of_prime_factors(prime):\n",
        "  prime_fact_dict = {}\n",
        "  index=0\n",
        "  while index < len(prime):\n",
        "    key = prime[index]\n",
        "    count = 1\n",
        "    for i in range(index+1,len(prime)):\n",
        "      if prime[i] == key:\n",
        "        count = count + 1\n",
        "      else:\n",
        "        break\n",
        "  \n",
        "    if key not in prime_fact_dict:\n",
        "      prime_fact_dict[key] = count\n",
        "    \n",
        "    if index < count:\n",
        "      index = count\n",
        "    else:\n",
        "      index = index + 1\n",
        "    \n",
        "  return prime_fact_dict\n",
        "\n",
        "print('Prime Factors:',prime_factors(1296000))\n",
        "print('Prime Factors raised to power:',Power_of_prime_factors(prime_factors(1296000)))"
      ],
      "execution_count": 52,
      "outputs": [
        {
          "output_type": "stream",
          "text": [
            "Prime Factors: [2, 2, 2, 2, 2, 2, 2, 3, 3, 3, 3, 5, 5, 5]\n",
            "Prime Factors raised to power: {2: 7, 3: 4, 5: 3}\n"
          ],
          "name": "stdout"
        }
      ]
    }
  ]
}