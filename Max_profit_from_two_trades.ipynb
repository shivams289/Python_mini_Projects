{
  "nbformat": 4,
  "nbformat_minor": 0,
  "metadata": {
    "colab": {
      "name": "Max_profit_from_two_trades.ipynb",
      "provenance": [],
      "authorship_tag": "ABX9TyPzsoNyQhFnkmeXacYn863U",
      "include_colab_link": true
    },
    "kernelspec": {
      "name": "python3",
      "display_name": "Python 3"
    },
    "language_info": {
      "name": "python"
    }
  },
  "cells": [
    {
      "cell_type": "markdown",
      "metadata": {
        "id": "view-in-github",
        "colab_type": "text"
      },
      "source": [
        "<a href=\"https://colab.research.google.com/github/shivams289/Python_mini_Projects/blob/main/Max_profit_from_two_trades.ipynb\" target=\"_parent\"><img src=\"https://colab.research.google.com/assets/colab-badge.svg\" alt=\"Open In Colab\"/></a>"
      ]
    },
    {
      "cell_type": "code",
      "metadata": {
        "id": "N4scilvndSgq"
      },
      "source": [
        "def max_profit(price):\n",
        "  n = len(price)\n",
        "  profit = [0]*n\n",
        "\n",
        "  max_price = price[n-1]\n",
        "  for i in range(n-2,0,-1):\n",
        "    if price[i] > max_price:\n",
        "      max_price = price[i]\n",
        "\n",
        "    profit[i] = max(max_price - price[i], profit[i+1] )\n",
        "\n",
        "  min_price = price[0]\n",
        "  for i in range(1,n):\n",
        "    if price[i] < min_price:\n",
        "      min_price = price[i]\n",
        "\n",
        "    profit[i] = max(profit[i-1], profit[i] + (price[i] - min_price))\n",
        "\n",
        "  print(profit)\n",
        "\n",
        "  return profit[n-1]\n",
        "\n"
      ],
      "execution_count": 10,
      "outputs": []
    },
    {
      "cell_type": "code",
      "metadata": {
        "colab": {
          "base_uri": "https://localhost:8080/"
        },
        "id": "dqQSyZtPfB4d",
        "outputId": "f846eb84-fbe3-40bf-fc12-b03590519987"
      },
      "source": [
        "max_profit( [90, 80, 70, 60, 50])"
      ],
      "execution_count": 26,
      "outputs": [
        {
          "output_type": "stream",
          "text": [
            "[0, 0, 0, 0, 0]\n"
          ],
          "name": "stdout"
        },
        {
          "output_type": "execute_result",
          "data": {
            "text/plain": [
              "0"
            ]
          },
          "metadata": {
            "tags": []
          },
          "execution_count": 26
        }
      ]
    },
    {
      "cell_type": "code",
      "metadata": {
        "id": "Wh6K0YhhfN46"
      },
      "source": [
        "import matplotlib.pyplot as plt\n",
        "plt.style.use('seaborn')\n"
      ],
      "execution_count": 7,
      "outputs": []
    },
    {
      "cell_type": "code",
      "metadata": {
        "colab": {
          "base_uri": "https://localhost:8080/",
          "height": 405
        },
        "id": "c9E2ISDkfUKe",
        "outputId": "fd3db9ed-cbe8-4a7d-9e2a-63d67049d36d"
      },
      "source": [
        "\n",
        "plt.plot( [90, 80, 70, 60, 50])\n",
        "plt.ylabel('Price', fontsize = 16, fontweight = 'bold')\n",
        "plt.xlabel('Index',fontsize = 16, fontweight = 'bold')"
      ],
      "execution_count": 27,
      "outputs": [
        {
          "output_type": "execute_result",
          "data": {
            "text/plain": [
              "Text(0.5, 0, 'Index')"
            ]
          },
          "metadata": {
            "tags": []
          },
          "execution_count": 27
        },
        {
          "output_type": "display_data",
          "data": {
            "image/png": "[encoded data removed]",
            "text/plain": [
              "<Figure size 576x396 with 1 Axes>"
            ]
          },
          "metadata": {
            "tags": []
          }
        }
      ]
    }
  ]
}