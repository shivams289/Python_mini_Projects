{
  "nbformat": 4,
  "nbformat_minor": 0,
  "metadata": {
    "colab": {
      "name": "Sort012.ipynb",
      "provenance": []
    },
    "kernelspec": {
      "name": "python3",
      "display_name": "Python 3"
    },
    "language_info": {
      "name": "python"
    }
  },
  "cells": [
    {
      "cell_type": "code",
      "metadata": {
        "id": "L6OJB4BgGMXs"
      },
      "source": [
        "  def sort012(arr):\n",
        "        l1 =[]\n",
        "        l2 = []\n",
        "        l3 = []\n",
        "        \n",
        "    \n",
        "        for el in arr:\n",
        "            if el==0:\n",
        "                l1.append(0)\n",
        "            elif el ==1:\n",
        "                l2.append(1)\n",
        "            elif el ==2:\n",
        "                l3.append(2)\n",
        "                \n",
        "        for i in l2:\n",
        "            l1.append(i)\n",
        "            \n",
        "        for i in l3:\n",
        "            l1.append(i)\n",
        "        \n",
        "        return l1"
      ],
      "execution_count": 27,
      "outputs": []
    },
    {
      "cell_type": "code",
      "metadata": {
        "id": "evwDloJ0Gj5W",
        "outputId": "c8ab64a5-4e0c-4a4e-c368-bfff71751cb2",
        "colab": {
          "base_uri": "https://localhost:8080/"
        }
      },
      "source": [
        "sort012([0, 2, 1, 2, 0])"
      ],
      "execution_count": 28,
      "outputs": [
        {
          "output_type": "execute_result",
          "data": {
            "text/plain": [
              "[0, 0, 1, 2, 2]"
            ]
          },
          "metadata": {
            "tags": []
          },
          "execution_count": 28
        }
      ]
    }
  ]
}