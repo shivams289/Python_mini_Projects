{
  "nbformat": 4,
  "nbformat_minor": 0,
  "metadata": {
    "colab": {
      "name": "Max_Contagious_subarray_sum.ipynb",
      "provenance": [],
      "authorship_tag": "ABX9TyP4Wt3Gh/iTyTSA8OWoXNUM",
      "include_colab_link": true
    },
    "kernelspec": {
      "name": "python3",
      "display_name": "Python 3"
    },
    "language_info": {
      "name": "python"
    }
  },
  "cells": [
    {
      "cell_type": "markdown",
      "metadata": {
        "id": "view-in-github",
        "colab_type": "text"
      },
      "source": [
        "<a href=\"https://colab.research.google.com/github/shivams289/Python_mini_Projects/blob/main/Max_Contagious_subarray_sum.ipynb\" target=\"_parent\"><img src=\"https://colab.research.google.com/assets/colab-badge.svg\" alt=\"Open In Colab\"/></a>"
      ]
    },
    {
      "cell_type": "markdown",
      "metadata": {
        "id": "6-JsCoVN179O"
      },
      "source": [
        "#Problem:Maximum Contagious Subarray sum\n",
        "\n",
        "1.   ## Time complexity O(n)\n",
        "#Expln. : \n",
        "1.   We store the 0th element as our current max and all time max of sum in two variables, why 0th element ? because if we set it to zero then if all the lements in an array is negative ..it will return 0 as all time high(not Good)\n",
        "2.   We then keep updating the all time max sum varibale as our current max sum becomes > all time max sum\n",
        "\n",
        "\n",
        "\n",
        "\n",
        "\n"
      ]
    },
    {
      "cell_type": "code",
      "metadata": {
        "id": "kp3VUalH17aX"
      },
      "source": [
        "def max_contagious(lst):\n",
        "  n = len(lst)\n",
        " \n",
        "  all_time_max_sum = lst[0] #We store final output in this, final max sum\n",
        "  curr_max_sum = lst[0]      # This is used to store temporary max sum\n",
        "  for i in range(1,n):\n",
        "    # Increase the current maximum sum if adding the next value increases it\n",
        "    curr_max_sum = max(lst[i], curr_max_sum + lst[i])\n",
        "    # increase the all time max sum if current max is greater than previous alltime high\n",
        "    all_time_max_sum = max(curr_max_sum, all_time_max_sum)\n",
        "\n",
        "  return all_time_max_sum"
      ],
      "execution_count": 6,
      "outputs": []
    },
    {
      "cell_type": "code",
      "metadata": {
        "colab": {
          "base_uri": "https://localhost:8080/"
        },
        "id": "odd1dcx02Fi_",
        "outputId": "fa81ac66-fb36-4ac9-ce73-e7febc463511"
      },
      "source": [
        "max_contagious([-2, -3, 4, -1, -2, 1, 5, -3])"
      ],
      "execution_count": 7,
      "outputs": [
        {
          "output_type": "execute_result",
          "data": {
            "text/plain": [
              "7"
            ]
          },
          "metadata": {
            "tags": []
          },
          "execution_count": 7
        }
      ]
    },
    {
      "cell_type": "code",
      "metadata": {
        "id": "5lQGM9go2Foy"
      },
      "source": [
        ""
      ],
      "execution_count": null,
      "outputs": []
    },
    {
      "cell_type": "code",
      "metadata": {
        "id": "uwapu5HB2Frx"
      },
      "source": [
        ""
      ],
      "execution_count": null,
      "outputs": []
    },
    {
      "cell_type": "code",
      "metadata": {
        "id": "dChXCsM02FuM"
      },
      "source": [
        ""
      ],
      "execution_count": null,
      "outputs": []
    },
    {
      "cell_type": "code",
      "metadata": {
        "id": "mJQZoNj62F1E"
      },
      "source": [
        ""
      ],
      "execution_count": null,
      "outputs": []
    }
  ]
}