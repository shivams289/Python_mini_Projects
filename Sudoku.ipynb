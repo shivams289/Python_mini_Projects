{
  "nbformat": 4,
  "nbformat_minor": 0,
  "metadata": {
    "colab": {
      "name": "Sudoku.ipynb",
      "provenance": [],
      "authorship_tag": "ABX9TyNbe6GmPfw7FSF/2ylVtWca",
      "include_colab_link": true
    },
    "kernelspec": {
      "name": "python3",
      "display_name": "Python 3"
    },
    "language_info": {
      "name": "python"
    }
  },
  "cells": [
    {
      "cell_type": "markdown",
      "metadata": {
        "id": "view-in-github",
        "colab_type": "text"
      },
      "source": [
        "<a href=\"https://colab.research.google.com/github/shivams289/Python_mini_Projects/blob/main/Sudoku.ipynb\" target=\"_parent\"><img src=\"https://colab.research.google.com/assets/colab-badge.svg\" alt=\"Open In Colab\"/></a>"
      ]
    },
    {
      "cell_type": "code",
      "metadata": {
        "id": "6J7V2mAZBLdl"
      },
      "source": [
        "#Find Where we have empty space?\n",
        "def find_empty_loc(ar, lst):\n",
        "  for row in range(9):\n",
        "    for col in range(9):\n",
        "      if ar[row][col] == 0:\n",
        "        lst[0] = row\n",
        "        lst[1] = col\n",
        "        return True\n",
        "  return False\n"
      ],
      "execution_count": 48,
      "outputs": []
    },
    {
      "cell_type": "code",
      "metadata": {
        "id": "L72ynhkp7i5E"
      },
      "source": [
        "def isin_row(ar, row, num):\n",
        "  n = len(ar)\n",
        "  #checking for row, n:shape of the matrix\n",
        "  for i in range(n):\n",
        "    if ar[row][i] == num :\n",
        "      return True\n",
        "  return False\n",
        "\n",
        "\n",
        "def isin_col(ar, col, num):\n",
        "  n = len(ar)\n",
        "  for i in range(n):\n",
        "    if ar[i][col] == num:\n",
        "      return True\n",
        "  return False\n",
        "\n",
        "def used_in_box(ar, row, col, num):\n",
        "  n = len(ar)\n",
        "  for i in range(int(n/3)):\n",
        "    for j in range(int(n/3)):\n",
        "      # Here we are not considering that wheher given row + i, col +j will form a box, but we will take care\n",
        "      if ar[row+i][j+col] == num:\n",
        "        return True\n",
        "  return False\n"
      ],
      "execution_count": 49,
      "outputs": []
    },
    {
      "cell_type": "code",
      "metadata": {
        "id": "HyLGYvlI7mbU"
      },
      "source": [
        "def location_safe_for_num(ar, col, row, num):\n",
        "  n = len(ar)\n",
        "  return not isin_row(ar, row, num) and not isin_col(ar, col, num) and not used_in_box(ar, row-row%(int(n/3)), col-col%(int(n/3)), num)"
      ],
      "execution_count": 50,
      "outputs": []
    },
    {
      "cell_type": "code",
      "metadata": {
        "id": "alQS-VAz7meM"
      },
      "source": [
        "def sudoku_solver(ar):\n",
        "  #let's take a list to keep track of empty location, it will always be [row,col]\n",
        "  lst = [0,0]\n",
        "  #Condition to stop recursing\n",
        "  if not find_empty_loc(ar,lst):\n",
        "    return True\n",
        "  row = lst[0]\n",
        "  col = lst[1]\n",
        "\n",
        "  for num in range(10):\n",
        "    if location_safe_for_num(ar,col,row,num):\n",
        "      ar[row][col]=num\n",
        "#Using recursion\n",
        "      if sudoku_solver(ar):\n",
        "        return True\n",
        "      ar[row][col] = 0\n",
        "  return False"
      ],
      "execution_count": 51,
      "outputs": []
    },
    {
      "cell_type": "code",
      "metadata": {
        "id": "rKjGfp6C7mhl"
      },
      "source": [
        "l = [[0,0,0,0,3,1,0,6,0],\n",
        "     [6,0,3,5,0,9,0,0,0],\n",
        "     [9,0,0,0,7,0,0,0,0],\n",
        "     [0,3,0,0,0,7,0,4,0],\n",
        "     [0,4,0,0,9,0,8,0,1],\n",
        "     [0,0,0,2,0,0,3,7,0],\n",
        "     [0,0,0,4,1,0,2,0,6],\n",
        "     [0,2,9,0,0,0,5,1,0],\n",
        "     [5,0,0,0,2,0,4,0,0]]"
      ],
      "execution_count": 52,
      "outputs": []
    },
    {
      "cell_type": "code",
      "metadata": {
        "id": "tFrFn5Mw7mlr",
        "colab": {
          "base_uri": "https://localhost:8080/"
        },
        "outputId": "d67cf78b-8fd6-4736-c504-77dea5b33f82"
      },
      "source": [
        "sudoku_solver(l)"
      ],
      "execution_count": 53,
      "outputs": [
        {
          "output_type": "execute_result",
          "data": {
            "text/plain": [
              "True"
            ]
          },
          "metadata": {
            "tags": []
          },
          "execution_count": 53
        }
      ]
    },
    {
      "cell_type": "code",
      "metadata": {
        "colab": {
          "base_uri": "https://localhost:8080/"
        },
        "id": "4BxBSsBPKUVY",
        "outputId": "8a05dedd-52f9-4e13-987a-f64caa5a5680"
      },
      "source": [
        "l"
      ],
      "execution_count": 54,
      "outputs": [
        {
          "output_type": "execute_result",
          "data": {
            "text/plain": [
              "[[2, 5, 7, 8, 3, 1, 9, 6, 4],\n",
              " [6, 1, 3, 5, 4, 9, 7, 8, 2],\n",
              " [9, 8, 4, 6, 7, 2, 1, 5, 3],\n",
              " [8, 3, 2, 1, 5, 7, 6, 4, 9],\n",
              " [7, 4, 5, 3, 9, 6, 8, 2, 1],\n",
              " [1, 9, 6, 2, 8, 4, 3, 7, 5],\n",
              " [3, 7, 8, 4, 1, 5, 2, 9, 6],\n",
              " [4, 2, 9, 7, 6, 3, 5, 1, 8],\n",
              " [5, 6, 1, 9, 2, 8, 4, 3, 7]]"
            ]
          },
          "metadata": {
            "tags": []
          },
          "execution_count": 54
        }
      ]
    }
  ]
}