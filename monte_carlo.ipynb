{
  "nbformat": 4,
  "nbformat_minor": 0,
  "metadata": {
    "colab": {
      "name": "Crude_monte_carlo.ipynb",
      "provenance": []
    },
    "kernelspec": {
      "name": "python3",
      "display_name": "Python 3"
    },
    "language_info": {
      "name": "python"
    }
  },
  "cells": [
    {
      "cell_type": "code",
      "metadata": {
        "id": "oDSOBIOyxT1u"
      },
      "source": [
        "import matplotlib.pyplot as plt\n",
        "import numpy as np\n",
        "import math\n",
        "import seaborn as sns\n",
        "import random"
      ],
      "execution_count": 1,
      "outputs": []
    },
    {
      "cell_type": "code",
      "metadata": {
        "id": "Fwv6pva_eEnY"
      },
      "source": [
        "PI = math.pi\n",
        "e = math.e"
      ],
      "execution_count": 2,
      "outputs": []
    },
    {
      "cell_type": "code",
      "metadata": {
        "id": "NOTkR1fueFke"
      },
      "source": [
        "def rand_number(min_val, max_val):\n",
        "    range = max_val - min_val\n",
        "    rand = random.uniform(0,1)\n",
        "    return min_val + range*rand"
      ],
      "execution_count": 65,
      "outputs": []
    },
    {
      "cell_type": "code",
      "metadata": {
        "id": "SNZW67M6eFrn"
      },
      "source": [
        "\n",
        "def func_x(x):\n",
        "    return 1/(1+e**(-x)) #math.sin(x) #(e**(-1*x))/(1+(x-1)**2)"
      ],
      "execution_count": 3,
      "outputs": []
    },
    {
      "cell_type": "code",
      "metadata": {
        "id": "frcJFymH76oh"
      },
      "source": [
        "def crude_monte_carlo(num_samples, lower_bound,  upper_bound ):\n",
        "    \n",
        "    sum_of_samples = 0\n",
        "    for i in range(num_samples):\n",
        "        x = rand_number(lower_bound, upper_bound)\n",
        "        sum_of_samples += func_x(x)\n",
        "    \n",
        "    return 'Monte Carlo:{}\\nMC Variance:{}'.format((upper_bound - lower_bound) * float(sum_of_samples/num_samples), get_crude_MC_variance(num_samples, upper_bound))"
      ],
      "execution_count": 67,
      "outputs": []
    },
    {
      "cell_type": "code",
      "metadata": {
        "colab": {
          "base_uri": "https://localhost:8080/"
        },
        "id": "2V5sxxNohDEL",
        "outputId": "2d28390c-4699-4aee-a23c-7d72e91a070e"
      },
      "source": [
        "print(crude_monte_carlo(100000, 0, 5))"
      ],
      "execution_count": 68,
      "outputs": [
        {
          "output_type": "stream",
          "text": [
            "Monte Carlo:4.3128552769735595\n",
            "MC Variance:3.820976240558788\n"
          ],
          "name": "stdout"
        }
      ]
    },
    {
      "cell_type": "code",
      "metadata": {
        "id": "iveORaVUfOjB"
      },
      "source": [
        "def get_crude_MC_variance(num_samples, upper_bound):\n",
        "    \n",
        "    # get the average of squares\n",
        "    running_total = 0\n",
        "    for i in range(num_samples):\n",
        "        x = rand_number(0, upper_bound)\n",
        "        running_total += func_x(x)**2\n",
        "\n",
        "    sum_of_sqs = running_total*upper_bound / num_samples\n",
        "    \n",
        "    # get square of average\n",
        "    running_total = 0\n",
        "    for i in range(num_samples):\n",
        "        x = rand_number(0, upper_bound)\n",
        "        running_total = func_x(x)\n",
        "\n",
        "    sq_ave = (upper_bound*running_total/num_samples)**2\n",
        "    \n",
        "    return sum_of_sqs - sq_ave"
      ],
      "execution_count": 69,
      "outputs": []
    },
    {
      "cell_type": "code",
      "metadata": {
        "colab": {
          "base_uri": "https://localhost:8080/",
          "height": 296
        },
        "id": "khDLtTqFfp1d",
        "outputId": "62e96709-2960-487a-c357-2fa42e0386d3"
      },
      "source": [
        "xs = [float(i/50) for i in range(1, int(50*PI*2))]\n",
        "ys = [func_x(x) for x in xs]\n",
        "plt.plot(xs,ys)\n",
        "plt.ylabel(\"f(X)\");\n",
        "plt.xlabel(\"X\")"
      ],
      "execution_count": 4,
      "outputs": [
        {
          "output_type": "execute_result",
          "data": {
            "text/plain": [
              "Text(0.5, 0, 'X')"
            ]
          },
          "metadata": {
            "tags": []
          },
          "execution_count": 4
        },
        {
          "output_type": "display_data",
          "data": {
            "image/png": "[encoded data removed]",
            "text/plain": [
              "<Figure size 432x288 with 1 Axes>"
            ]
          },
          "metadata": {
            "tags": [],
            "needs_background": "light"
          }
        }
      ]
    }
  ]
}
