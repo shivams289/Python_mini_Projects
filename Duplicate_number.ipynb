{
  "nbformat": 4,
  "nbformat_minor": 0,
  "metadata": {
    "colab": {
      "name": "Duplicate_number.ipynb",
      "provenance": [],
      "authorship_tag": "ABX9TyMSf7+oA7Bka2dJmSt1coaG",
      "include_colab_link": true
    },
    "kernelspec": {
      "name": "python3",
      "display_name": "Python 3"
    },
    "language_info": {
      "name": "python"
    }
  },
  "cells": [
    {
      "cell_type": "markdown",
      "metadata": {
        "id": "view-in-github",
        "colab_type": "text"
      },
      "source": [
        "<a href=\"https://colab.research.google.com/github/shivams289/Python_mini_Projects/blob/main/Duplicate_number.ipynb\" target=\"_parent\"><img src=\"https://colab.research.google.com/assets/colab-badge.svg\" alt=\"Open In Colab\"/></a>"
      ]
    },
    {
      "cell_type": "markdown",
      "metadata": {
        "id": "hgFeqDjYjdLs"
      },
      "source": [
        "##Given an array of integers nums containing n + 1 integers where each integer is in the range [1, n] inclusive.\n",
        "\n",
        "##There is only one repeated number in nums, return this repeated number."
      ]
    },
    {
      "cell_type": "code",
      "metadata": {
        "id": "c1iM0SFljYVz"
      },
      "source": [
        "#Solution 1\n",
        " def findDuplicate(self, nums: List[int]) -> int:\n",
        "        nums.sort()\n",
        "        for i in range(len(nums)):\n",
        "            if nums[i] == nums[i+1]:\n",
        "                return nums[i]"
      ],
      "execution_count": null,
      "outputs": []
    },
    {
      "cell_type": "code",
      "metadata": {
        "id": "rJpaVcfBjsMp"
      },
      "source": [
        "#Solution 2\n",
        "def findDuplicate(self, nums: List[int]) -> int:\n",
        "        dictn = {}\n",
        "        for num in nums:\n",
        "            count = 1\n",
        "            if num not in dictn:\n",
        "                dictn[num] = count\n",
        "            else:\n",
        "                dictn[num] = count+1\n",
        "                \n",
        "                \n",
        "        for key , value in dictn.items():\n",
        "            if dictn[key] >1:\n",
        "                return key"
      ],
      "execution_count": null,
      "outputs": []
    }
  ]
}